{
  "cells": [
    {
      "cell_type": "markdown",
      "metadata": {
        "id": "view-in-github",
        "colab_type": "text"
      },
      "source": [
        "<a href=\"https://colab.research.google.com/github/NirmalKAhirwar/Contact_list_DjangoApp/blob/master/examples/vision/ipynb/mnist_convnet.ipynb\" target=\"_parent\"><img src=\"https://colab.research.google.com/assets/colab-badge.svg\" alt=\"Open In Colab\"/></a>"
      ]
    },
    {
      "cell_type": "markdown",
      "metadata": {
        "id": "y5wMbjfkyC4i"
      },
      "source": [
        "# Simple MNIST convnet\n",
        "\n",
        "**Author:** [fchollet](https://twitter.com/fchollet)<br>\n",
        "**Date created:** 2015/06/19<br>\n",
        "**Last modified:** 2020/04/21<br>\n",
        "**Description:** A simple convnet that achieves ~99% test accuracy on MNIST."
      ]
    },
    {
      "cell_type": "markdown",
      "metadata": {
        "id": "erPZskgTyC4m"
      },
      "source": [
        "## Setup"
      ]
    },
    {
      "cell_type": "code",
      "execution_count": 1,
      "metadata": {
        "id": "g4Pl5ebuyC4n"
      },
      "outputs": [],
      "source": [
        "import numpy as np\n",
        "from tensorflow import keras\n",
        "from tensorflow.keras import layers"
      ]
    },
    {
      "cell_type": "markdown",
      "metadata": {
        "id": "FObMENPQyC4n"
      },
      "source": [
        "## Prepare the data"
      ]
    },
    {
      "cell_type": "code",
      "execution_count": 2,
      "metadata": {
        "id": "xnhEVvbYyC4o",
        "outputId": "4e3e9259-047f-4f7f-ada2-a9c43a1c54ec",
        "colab": {
          "base_uri": "https://localhost:8080/"
        }
      },
      "outputs": [
        {
          "output_type": "stream",
          "name": "stdout",
          "text": [
            "Downloading data from https://storage.googleapis.com/tensorflow/tf-keras-datasets/mnist.npz\n",
            "11493376/11490434 [==============================] - 0s 0us/step\n",
            "11501568/11490434 [==============================] - 0s 0us/step\n",
            "x_train shape: (60000, 28, 28, 1)\n",
            "60000 train samples\n",
            "10000 test samples\n"
          ]
        }
      ],
      "source": [
        "# Model / data parameters\n",
        "num_classes = 10\n",
        "input_shape = (28, 28, 1)\n",
        "\n",
        "# Load the data and split it between train and test sets\n",
        "(x_train, y_train), (x_test, y_test) = keras.datasets.mnist.load_data()\n",
        "\n",
        "# Scale images to the [0, 1] range\n",
        "x_train = x_train.astype(\"float32\") / 255\n",
        "x_test = x_test.astype(\"float32\") / 255\n",
        "# Make sure images have shape (28, 28, 1)\n",
        "x_train = np.expand_dims(x_train, -1)\n",
        "x_test = np.expand_dims(x_test, -1)\n",
        "print(\"x_train shape:\", x_train.shape)\n",
        "print(x_train.shape[0], \"train samples\")\n",
        "print(x_test.shape[0], \"test samples\")\n",
        "\n",
        "\n",
        "# convert class vectors to binary class matrices\n",
        "y_train = keras.utils.to_categorical(y_train, num_classes)\n",
        "y_test = keras.utils.to_categorical(y_test, num_classes)"
      ]
    },
    {
      "cell_type": "markdown",
      "metadata": {
        "id": "4YE0rRRYyC4o"
      },
      "source": [
        "## Build the model"
      ]
    },
    {
      "cell_type": "code",
      "execution_count": 3,
      "metadata": {
        "id": "yNHgZ0ViyC4p",
        "outputId": "68aabbcc-43e5-4369-a63d-4d81b3afdccd",
        "colab": {
          "base_uri": "https://localhost:8080/"
        }
      },
      "outputs": [
        {
          "output_type": "stream",
          "name": "stdout",
          "text": [
            "Model: \"sequential\"\n",
            "_________________________________________________________________\n",
            " Layer (type)                Output Shape              Param #   \n",
            "=================================================================\n",
            " conv2d (Conv2D)             (None, 26, 26, 32)        320       \n",
            "                                                                 \n",
            " max_pooling2d (MaxPooling2D  (None, 13, 13, 32)       0         \n",
            " )                                                               \n",
            "                                                                 \n",
            " conv2d_1 (Conv2D)           (None, 11, 11, 64)        18496     \n",
            "                                                                 \n",
            " max_pooling2d_1 (MaxPooling  (None, 5, 5, 64)         0         \n",
            " 2D)                                                             \n",
            "                                                                 \n",
            " flatten (Flatten)           (None, 1600)              0         \n",
            "                                                                 \n",
            " dropout (Dropout)           (None, 1600)              0         \n",
            "                                                                 \n",
            " dense (Dense)               (None, 10)                16010     \n",
            "                                                                 \n",
            "=================================================================\n",
            "Total params: 34,826\n",
            "Trainable params: 34,826\n",
            "Non-trainable params: 0\n",
            "_________________________________________________________________\n"
          ]
        }
      ],
      "source": [
        "model = keras.Sequential(\n",
        "    [\n",
        "        keras.Input(shape=input_shape),\n",
        "        layers.Conv2D(32, kernel_size=(3, 3), activation=\"relu\"),\n",
        "        layers.MaxPooling2D(pool_size=(2, 2)),\n",
        "        layers.Conv2D(64, kernel_size=(3, 3), activation=\"relu\"),\n",
        "        layers.MaxPooling2D(pool_size=(2, 2)),\n",
        "        layers.Flatten(),\n",
        "        layers.Dropout(0.5),\n",
        "        layers.Dense(num_classes, activation=\"softmax\"),\n",
        "    ]\n",
        ")\n",
        "\n",
        "model.summary()"
      ]
    },
    {
      "cell_type": "markdown",
      "metadata": {
        "id": "NLSaZEVnyC4q"
      },
      "source": [
        "## Train the model"
      ]
    },
    {
      "cell_type": "code",
      "execution_count": 4,
      "metadata": {
        "id": "9Q9s5WjvyC4q",
        "outputId": "ccf6976b-8cf6-46ae-f2c7-ff025be6b863",
        "colab": {
          "base_uri": "https://localhost:8080/"
        }
      },
      "outputs": [
        {
          "output_type": "stream",
          "name": "stdout",
          "text": [
            "Epoch 1/15\n",
            "422/422 [==============================] - 43s 99ms/step - loss: 0.3672 - accuracy: 0.8874 - val_loss: 0.0869 - val_accuracy: 0.9768\n",
            "Epoch 2/15\n",
            "422/422 [==============================] - 41s 97ms/step - loss: 0.1166 - accuracy: 0.9647 - val_loss: 0.0614 - val_accuracy: 0.9835\n",
            "Epoch 3/15\n",
            "422/422 [==============================] - 41s 97ms/step - loss: 0.0865 - accuracy: 0.9743 - val_loss: 0.0485 - val_accuracy: 0.9863\n",
            "Epoch 4/15\n",
            "422/422 [==============================] - 41s 97ms/step - loss: 0.0715 - accuracy: 0.9781 - val_loss: 0.0432 - val_accuracy: 0.9888\n",
            "Epoch 5/15\n",
            "422/422 [==============================] - 41s 98ms/step - loss: 0.0663 - accuracy: 0.9795 - val_loss: 0.0380 - val_accuracy: 0.9893\n",
            "Epoch 6/15\n",
            "422/422 [==============================] - 42s 99ms/step - loss: 0.0579 - accuracy: 0.9820 - val_loss: 0.0355 - val_accuracy: 0.9900\n",
            "Epoch 7/15\n",
            "422/422 [==============================] - 42s 98ms/step - loss: 0.0523 - accuracy: 0.9838 - val_loss: 0.0366 - val_accuracy: 0.9902\n",
            "Epoch 8/15\n",
            "422/422 [==============================] - 41s 98ms/step - loss: 0.0487 - accuracy: 0.9846 - val_loss: 0.0371 - val_accuracy: 0.9898\n",
            "Epoch 9/15\n",
            "422/422 [==============================] - 43s 101ms/step - loss: 0.0457 - accuracy: 0.9851 - val_loss: 0.0320 - val_accuracy: 0.9908\n",
            "Epoch 10/15\n",
            "422/422 [==============================] - 41s 98ms/step - loss: 0.0432 - accuracy: 0.9855 - val_loss: 0.0310 - val_accuracy: 0.9915\n",
            "Epoch 11/15\n",
            "422/422 [==============================] - 41s 98ms/step - loss: 0.0406 - accuracy: 0.9869 - val_loss: 0.0328 - val_accuracy: 0.9908\n",
            "Epoch 12/15\n",
            "422/422 [==============================] - 43s 101ms/step - loss: 0.0387 - accuracy: 0.9880 - val_loss: 0.0320 - val_accuracy: 0.9912\n",
            "Epoch 13/15\n",
            "422/422 [==============================] - 45s 107ms/step - loss: 0.0364 - accuracy: 0.9884 - val_loss: 0.0318 - val_accuracy: 0.9920\n",
            "Epoch 14/15\n",
            "422/422 [==============================] - 43s 103ms/step - loss: 0.0353 - accuracy: 0.9886 - val_loss: 0.0280 - val_accuracy: 0.9920\n",
            "Epoch 15/15\n",
            "422/422 [==============================] - 44s 105ms/step - loss: 0.0348 - accuracy: 0.9885 - val_loss: 0.0294 - val_accuracy: 0.9925\n"
          ]
        },
        {
          "output_type": "execute_result",
          "data": {
            "text/plain": [
              "<keras.callbacks.History at 0x7fdcce4a0c90>"
            ]
          },
          "metadata": {},
          "execution_count": 4
        }
      ],
      "source": [
        "batch_size = 128\n",
        "epochs = 15\n",
        "\n",
        "model.compile(loss=\"categorical_crossentropy\", optimizer=\"adam\", metrics=[\"accuracy\"])\n",
        "\n",
        "model.fit(x_train, y_train, batch_size=batch_size, epochs=epochs, validation_split=0.1)"
      ]
    },
    {
      "cell_type": "markdown",
      "metadata": {
        "id": "SHs_jIgmyC4r"
      },
      "source": [
        "## Evaluate the trained model"
      ]
    },
    {
      "cell_type": "code",
      "execution_count": 7,
      "metadata": {
        "id": "2yibCSD8yC4r",
        "outputId": "8c713bba-9171-43b1-db0d-6c2aa8f76603",
        "colab": {
          "base_uri": "https://localhost:8080/"
        }
      },
      "outputs": [
        {
          "output_type": "stream",
          "name": "stdout",
          "text": [
            "Test loss: 0.023970890790224075\n",
            "Test accuracy: 0.9919999837875366\n",
            "[0.023970890790224075, 0.9919999837875366, 0.023970890790224075, 0.9919999837875366, 0.023970890790224075, 0.9919999837875366, 0.023970890790224075, 0.9919999837875366, 0.023970890790224075, 0.9919999837875366, 0.023970890790224075, 0.9919999837875366, 0.023970890790224075, 0.9919999837875366, 0.023970890790224075, 0.9919999837875366, 0.023970890790224075, 0.9919999837875366, 0.023970890790224075, 0.9919999837875366, 0.023970890790224075, 0.9919999837875366, 0.023970890790224075, 0.9919999837875366, 0.023970890790224075, 0.9919999837875366, 0.023970890790224075, 0.9919999837875366, 0.023970890790224075, 0.9919999837875366, 0.023970890790224075, 0.9919999837875366, 0.023970890790224075, 0.9919999837875366, 0.023970890790224075, 0.9919999837875366, 0.023970890790224075, 0.9919999837875366, 0.023970890790224075, 0.9919999837875366, 0.023970890790224075, 0.9919999837875366, 0.023970890790224075, 0.9919999837875366, 0.023970890790224075, 0.9919999837875366, 0.023970890790224075, 0.9919999837875366, 0.023970890790224075, 0.9919999837875366, 0.023970890790224075, 0.9919999837875366, 0.023970890790224075, 0.9919999837875366, 0.023970890790224075, 0.9919999837875366, 0.023970890790224075, 0.9919999837875366, 0.023970890790224075, 0.9919999837875366, 0.023970890790224075, 0.9919999837875366, 0.023970890790224075, 0.9919999837875366, 0.023970890790224075, 0.9919999837875366, 0.023970890790224075, 0.9919999837875366, 0.023970890790224075, 0.9919999837875366, 0.023970890790224075, 0.9919999837875366, 0.023970890790224075, 0.9919999837875366, 0.023970890790224075, 0.9919999837875366, 0.023970890790224075, 0.9919999837875366, 0.023970890790224075, 0.9919999837875366, 0.023970890790224075, 0.9919999837875366, 0.023970890790224075, 0.9919999837875366, 0.023970890790224075, 0.9919999837875366, 0.023970890790224075, 0.9919999837875366, 0.023970890790224075, 0.9919999837875366, 0.023970890790224075, 0.9919999837875366, 0.023970890790224075, 0.9919999837875366, 0.023970890790224075, 0.9919999837875366, 0.023970890790224075, 0.9919999837875366, 0.023970890790224075, 0.9919999837875366, 0.023970890790224075, 0.9919999837875366, 0.023970890790224075, 0.9919999837875366, 0.023970890790224075, 0.9919999837875366, 0.023970890790224075, 0.9919999837875366, 0.023970890790224075, 0.9919999837875366, 0.023970890790224075, 0.9919999837875366, 0.023970890790224075, 0.9919999837875366, 0.023970890790224075, 0.9919999837875366, 0.023970890790224075, 0.9919999837875366, 0.023970890790224075, 0.9919999837875366, 0.023970890790224075, 0.9919999837875366, 0.023970890790224075, 0.9919999837875366, 0.023970890790224075, 0.9919999837875366, 0.023970890790224075, 0.9919999837875366, 0.023970890790224075, 0.9919999837875366, 0.023970890790224075, 0.9919999837875366, 0.023970890790224075, 0.9919999837875366, 0.023970890790224075, 0.9919999837875366, 0.023970890790224075, 0.9919999837875366, 0.023970890790224075, 0.9919999837875366, 0.023970890790224075, 0.9919999837875366, 0.023970890790224075, 0.9919999837875366, 0.023970890790224075, 0.9919999837875366, 0.023970890790224075, 0.9919999837875366, 0.023970890790224075, 0.9919999837875366, 0.023970890790224075, 0.9919999837875366, 0.023970890790224075, 0.9919999837875366, 0.023970890790224075, 0.9919999837875366, 0.023970890790224075, 0.9919999837875366, 0.023970890790224075, 0.9919999837875366, 0.023970890790224075, 0.9919999837875366, 0.023970890790224075, 0.9919999837875366, 0.023970890790224075, 0.9919999837875366, 0.023970890790224075, 0.9919999837875366, 0.023970890790224075, 0.9919999837875366, 0.023970890790224075, 0.9919999837875366, 0.023970890790224075, 0.9919999837875366, 0.023970890790224075, 0.9919999837875366, 0.023970890790224075, 0.9919999837875366, 0.023970890790224075, 0.9919999837875366, 0.023970890790224075, 0.9919999837875366, 0.023970890790224075, 0.9919999837875366, 0.023970890790224075, 0.9919999837875366, 0.023970890790224075, 0.9919999837875366, 0.023970890790224075, 0.9919999837875366, 0.023970890790224075, 0.9919999837875366, 0.023970890790224075, 0.9919999837875366, 0.023970890790224075, 0.9919999837875366, 0.023970890790224075, 0.9919999837875366, 0.023970890790224075, 0.9919999837875366]\n"
          ]
        }
      ],
      "source": [
        "score = model.evaluate(x_test, y_test, verbose=0)\n",
        "print(\"Test loss:\", score[0])\n",
        "print(\"Test accuracy:\", score[1])\n"
      ]
    },
    {
      "cell_type": "code",
      "source": [
        "import tensorflow as tf\n",
        "cifar10 = tf.keras.datasets.cifar10"
      ],
      "metadata": {
        "id": "yhszLvSL1kiL"
      },
      "execution_count": 9,
      "outputs": []
    },
    {
      "cell_type": "code",
      "source": [
        "# Distribute it to train and test set\n",
        "(x_train, y_train), (x_test, y_test) = cifar10.load_data()\n",
        "print(x_train.shape, y_train.shape, x_test.shape, y_test.shape)"
      ],
      "metadata": {
        "id": "LEcdWt2_1vxz",
        "outputId": "44bf1a8d-edb1-43d8-e8ff-0710fa8b2b62",
        "colab": {
          "base_uri": "https://localhost:8080/"
        }
      },
      "execution_count": 10,
      "outputs": [
        {
          "output_type": "stream",
          "name": "stdout",
          "text": [
            "Downloading data from https://www.cs.toronto.edu/~kriz/cifar-10-python.tar.gz\n",
            "170500096/170498071 [==============================] - 2s 0us/step\n",
            "170508288/170498071 [==============================] - 2s 0us/step\n",
            "(50000, 32, 32, 3) (50000, 1) (10000, 32, 32, 3) (10000, 1)\n"
          ]
        }
      ]
    },
    {
      "cell_type": "code",
      "source": [
        "import tensorflow as tf  \n",
        " \n",
        "# Display the version\n",
        "print(tf.__version__)    \n",
        " \n",
        "# other imports\n",
        "import numpy as np\n",
        "import matplotlib.pyplot as plt\n",
        "from tensorflow.keras.layers import Input, Conv2D, Dense, Flatten, Dropout\n",
        "from tensorflow.keras.layers import GlobalMaxPooling2D, MaxPooling2D\n",
        "from tensorflow.keras.layers import BatchNormalization\n",
        "from tensorflow.keras.models import Model"
      ],
      "metadata": {
        "id": "Acp9toCB10WR",
        "outputId": "5cfe6384-d578-4076-eb3f-e254159fac99",
        "colab": {
          "base_uri": "https://localhost:8080/"
        }
      },
      "execution_count": 11,
      "outputs": [
        {
          "output_type": "stream",
          "name": "stdout",
          "text": [
            "2.8.2\n"
          ]
        }
      ]
    },
    {
      "cell_type": "code",
      "source": [
        "# Reduce pixel values\n",
        "x_train, x_test = x_train / 255.0, x_test / 255.0\n",
        "\n",
        "# flatten the label values\n",
        "y_train, y_test = y_train.flatten(), y_test.flatten()\n",
        "print(x_train.shape, y_train.shape, x_test.shape, y_test.shape)"
      ],
      "metadata": {
        "id": "OMFVubX411zD",
        "outputId": "ceb3fc33-3b88-430e-d966-d56f1c29f1bd",
        "colab": {
          "base_uri": "https://localhost:8080/"
        }
      },
      "execution_count": 13,
      "outputs": [
        {
          "output_type": "stream",
          "name": "stdout",
          "text": [
            "(50000, 32, 32, 3) (50000,) (10000, 32, 32, 3) (10000,)\n"
          ]
        }
      ]
    },
    {
      "cell_type": "code",
      "source": [
        "K = len(set(y_train))\n",
        "K"
      ],
      "metadata": {
        "id": "SO8CdI7l3cl7",
        "outputId": "119e1726-15fa-4e71-c3dc-6e42c46ba237",
        "colab": {
          "base_uri": "https://localhost:8080/"
        }
      },
      "execution_count": 15,
      "outputs": [
        {
          "output_type": "execute_result",
          "data": {
            "text/plain": [
              "10"
            ]
          },
          "metadata": {},
          "execution_count": 15
        }
      ]
    },
    {
      "cell_type": "code",
      "source": [
        "# visualize data by plotting images\n",
        "fig, ax = plt.subplots(5, 5)\n",
        "k = 0\n",
        "\n",
        "for i in range(5):\n",
        "\tfor j in range(5):\n",
        "\t\tax[i][j].imshow(x_train[k], aspect='auto')\n",
        "\t\tk += 1\n",
        "\n",
        "plt.show()\n"
      ],
      "metadata": {
        "id": "q0hZhpT73kuH",
        "outputId": "c73b11fc-2080-4038-f23d-9c2f22c2f747",
        "colab": {
          "base_uri": "https://localhost:8080/",
          "height": 269
        }
      },
      "execution_count": 16,
      "outputs": [
        {
          "output_type": "display_data",
          "data": {
            "text/plain": [
              "<Figure size 432x288 with 25 Axes>"
            ],
            "image/png": "[encoded data removed]"
          },
          "metadata": {
            "needs_background": "light"
          }
        }
      ]
    },
    {
      "cell_type": "code",
      "source": [
        "# Build the model using the functional API\n",
        "# input layer\n",
        "i = Input(shape=x_train[0].shape)\n",
        "x = Conv2D(32, (3, 3), activation='relu', padding='same')(i)\n",
        "x = BatchNormalization()(x)\n",
        "x = Conv2D(32, (3, 3), activation='relu', padding='same')(x)\n",
        "x = BatchNormalization()(x)\n",
        "x = MaxPooling2D((2, 2))(x)\n",
        " \n",
        "x = Conv2D(64, (3, 3), activation='relu', padding='same')(x)\n",
        "x = BatchNormalization()(x)\n",
        "x = Conv2D(64, (3, 3), activation='relu', padding='same')(x)\n",
        "x = BatchNormalization()(x)\n",
        "x = MaxPooling2D((2, 2))(x)\n",
        " \n",
        "x = Conv2D(128, (3, 3), activation='relu', padding='same')(x)\n",
        "x = BatchNormalization()(x)\n",
        "x = Conv2D(128, (3, 3), activation='relu', padding='same')(x)\n",
        "x = BatchNormalization()(x)\n",
        "x = MaxPooling2D((2, 2))(x)\n",
        " \n",
        "x = Flatten()(x)\n",
        "x = Dropout(0.2)(x)\n",
        " \n",
        "# Hidden layer\n",
        "x = Dense(1024, activation='relu')(x)\n",
        "x = Dropout(0.2)(x)\n",
        " \n",
        "# last hidden layer i.e.. output layer\n",
        "x = Dense(K, activation='softmax')(x)\n",
        " \n",
        "model = Model(i, x)\n",
        " \n",
        "# model description\n",
        "model.summary()"
      ],
      "metadata": {
        "id": "f_DAYenD3q6V",
        "outputId": "51702720-97a2-4e35-c79d-992362563596",
        "colab": {
          "base_uri": "https://localhost:8080/"
        }
      },
      "execution_count": 17,
      "outputs": [
        {
          "output_type": "stream",
          "name": "stdout",
          "text": [
            "Model: \"model\"\n",
            "_________________________________________________________________\n",
            " Layer (type)                Output Shape              Param #   \n",
            "=================================================================\n",
            " input_2 (InputLayer)        [(None, 32, 32, 3)]       0         \n",
            "                                                                 \n",
            " conv2d_2 (Conv2D)           (None, 32, 32, 32)        896       \n",
            "                                                                 \n",
            " batch_normalization (BatchN  (None, 32, 32, 32)       128       \n",
            " ormalization)                                                   \n",
            "                                                                 \n",
            " conv2d_3 (Conv2D)           (None, 32, 32, 32)        9248      \n",
            "                                                                 \n",
            " batch_normalization_1 (Batc  (None, 32, 32, 32)       128       \n",
            " hNormalization)                                                 \n",
            "                                                                 \n",
            " max_pooling2d_2 (MaxPooling  (None, 16, 16, 32)       0         \n",
            " 2D)                                                             \n",
            "                                                                 \n",
            " conv2d_4 (Conv2D)           (None, 16, 16, 64)        18496     \n",
            "                                                                 \n",
            " batch_normalization_2 (Batc  (None, 16, 16, 64)       256       \n",
            " hNormalization)                                                 \n",
            "                                                                 \n",
            " conv2d_5 (Conv2D)           (None, 16, 16, 64)        36928     \n",
            "                                                                 \n",
            " batch_normalization_3 (Batc  (None, 16, 16, 64)       256       \n",
            " hNormalization)                                                 \n",
            "                                                                 \n",
            " max_pooling2d_3 (MaxPooling  (None, 8, 8, 64)         0         \n",
            " 2D)                                                             \n",
            "                                                                 \n",
            " conv2d_6 (Conv2D)           (None, 8, 8, 128)         73856     \n",
            "                                                                 \n",
            " batch_normalization_4 (Batc  (None, 8, 8, 128)        512       \n",
            " hNormalization)                                                 \n",
            "                                                                 \n",
            " conv2d_7 (Conv2D)           (None, 8, 8, 128)         147584    \n",
            "                                                                 \n",
            " batch_normalization_5 (Batc  (None, 8, 8, 128)        512       \n",
            " hNormalization)                                                 \n",
            "                                                                 \n",
            " max_pooling2d_4 (MaxPooling  (None, 4, 4, 128)        0         \n",
            " 2D)                                                             \n",
            "                                                                 \n",
            " flatten_1 (Flatten)         (None, 2048)              0         \n",
            "                                                                 \n",
            " dropout_1 (Dropout)         (None, 2048)              0         \n",
            "                                                                 \n",
            " dense_1 (Dense)             (None, 1024)              2098176   \n",
            "                                                                 \n",
            " dropout_2 (Dropout)         (None, 1024)              0         \n",
            "                                                                 \n",
            " dense_2 (Dense)             (None, 10)                10250     \n",
            "                                                                 \n",
            "=================================================================\n",
            "Total params: 2,397,226\n",
            "Trainable params: 2,396,330\n",
            "Non-trainable params: 896\n",
            "_________________________________________________________________\n"
          ]
        }
      ]
    },
    {
      "cell_type": "code",
      "source": [
        "# Compile\n",
        "model.compile(optimizer='adam',\n",
        "\t\t\tloss='sparse_categorical_crossentropy',\n",
        "\t\t\tmetrics=['accuracy'])\n"
      ],
      "metadata": {
        "id": "cunSgvQY3xK9"
      },
      "execution_count": 18,
      "outputs": []
    },
    {
      "cell_type": "code",
      "source": [
        "# Fit\n",
        "r = model.fit(\n",
        "x_train, y_train, validation_data=(x_test, y_test), epochs=50)\n"
      ],
      "metadata": {
        "id": "SC1cqhCM3zRs",
        "outputId": "b1010890-45c2-444f-923b-381f6026f5c6",
        "colab": {
          "base_uri": "https://localhost:8080/"
        }
      },
      "execution_count": null,
      "outputs": [
        {
          "output_type": "stream",
          "name": "stdout",
          "text": [
            "Epoch 1/50\n",
            " 704/1563 [============>.................] - ETA: 4:17 - loss: 1.6622 - accuracy: 0.4304"
          ]
        }
      ]
    },
    {
      "cell_type": "code",
      "source": [
        "# Fit with data augmentation\n",
        "# Note: if you run this AFTER calling\n",
        "# the previous model.fit()\n",
        "# it will CONTINUE training where it left off\n",
        "batch_size = 32\n",
        "data_generator = tf.keras.preprocessing.image.ImageDataGenerator(\n",
        "width_shift_range=0.1, height_shift_range=0.1, horizontal_flip=True)\n",
        "\n",
        "train_generator = data_generator.flow(x_train, y_train, batch_size)\n",
        "steps_per_epoch = x_train.shape[0] // batch_size\n",
        "\n",
        "r = model.fit(train_generator, validation_data=(x_test, y_test),\n",
        "\t\t\tsteps_per_epoch=steps_per_epoch, epochs=50)\n"
      ],
      "metadata": {
        "id": "jHE54m8C4Har"
      },
      "execution_count": null,
      "outputs": []
    },
    {
      "cell_type": "code",
      "source": [
        "# Plot accuracy per iteration\n",
        "plt.plot(r.history['accuracy'], label='acc', color='red')\n",
        "plt.plot(r.history['val_accuracy'], label='val_acc', color='green')\n",
        "plt.legend()\n"
      ],
      "metadata": {
        "id": "aXp8j0U44OHY"
      },
      "execution_count": null,
      "outputs": []
    },
    {
      "cell_type": "code",
      "source": [
        "# label mapping\n",
        "\n",
        "labels = '''airplane automobile bird cat deerdog frog horseship truck'''.split()\n",
        "\n",
        "# select the image from our test dataset\n",
        "image_number = 0\n",
        "\n",
        "# display the image\n",
        "plt.imshow(x_test[image_number])\n",
        "\n",
        "# load the image in an array\n",
        "n = np.array(x_test[image_number])\n",
        "\n",
        "# reshape it\n",
        "p = n.reshape(1, 32, 32, 3)\n",
        "\n",
        "# pass in the network for prediction and\n",
        "# save the predicted label\n",
        "predicted_label = labels[model.predict(p).argmax()]\n",
        "\n",
        "# load the original label\n",
        "original_label = labels[y_test[image_number]]\n",
        "\n",
        "# display the result\n",
        "print(\"Original label is {} and predicted label is {}\".format(\n",
        "\toriginal_label, predicted_label))\n"
      ],
      "metadata": {
        "id": "3RsvMMQH4XuS"
      },
      "execution_count": null,
      "outputs": []
    },
    {
      "cell_type": "code",
      "source": [
        "# save the model\n",
        "model.save('geeksforgeeks.h5')\n"
      ],
      "metadata": {
        "id": "dD4kyQop4Yyq"
      },
      "execution_count": null,
      "outputs": []
    }
  ],
  "metadata": {
    "colab": {
      "collapsed_sections": [],
      "name": "mnist_convnet",
      "provenance": [],
      "include_colab_link": true
    },
    "kernelspec": {
      "display_name": "Python 3",
      "language": "python",
      "name": "python3"
    },
    "language_info": {
      "codemirror_mode": {
        "name": "ipython",
        "version": 3
      },
      "file_extension": ".py",
      "mimetype": "text/x-python",
      "name": "python",
      "nbconvert_exporter": "python",
      "pygments_lexer": "ipython3",
      "version": "3.7.0"
    }
  },
  "nbformat": 4,
  "nbformat_minor": 0
}